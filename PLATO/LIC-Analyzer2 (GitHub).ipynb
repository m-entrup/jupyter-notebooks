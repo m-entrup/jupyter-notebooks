{
 "cells": [
  {
   "cell_type": "markdown",
   "metadata": {},
   "source": [
    "# LIC-Analyzer\n",
    "\n",
    "Dieses Notebook dient dazu die Lizenzen für **PLATO e1ns.methods** auszuwerten. Es wird dazu ein Zweig des SVN-Repositories **PLX_methods_worksheets** analysiert - Standard ist ``trunk`` - und ein Datensatz erstellt, der alle in den Lizenz-Dateien und Formblättern verwendeten Lizenz-Kategorien enthält.\n",
    "\n",
    "## Lizenz-Dateien analysieren\n",
    "\n",
    "Aus den Lizenz-Dateien werden unterschiedliche Daten extrahiert, die in Relation zum Kunden gespeichert werden. Der Kunde wird dabei dem Parameter ``company`` entnommen, der in der Lizenz-Datei im Abschnitt ``main`` aufgeführt ist. Die extrahierten Daten sind die Laufzeit der Lizenz (``expire``), der Zeitpunkt des Signierens (``modified``), der Pfad der Datei und die enthaltenen Methoden mit der Anzahl der verfügbaren Slots (``slotCount``), sowie der Anzahl an gleichzeitigen Nutzern (``floatingUserCount``).\n",
    "\n",
    "## Formblätter analysieren\n",
    "\n",
    "Alle Formblätter werden nach den Parametern ``__lic_category`` und ``__lic_is_catalog`` durchsucht. Die Formblätter (Name und Pfad zur Datei) werden in relation zur Lizenz-Kategorie gestellt. ``__lic_is_catalog`` dient später nur zum Filtern, wenn man ausschließlich Formblätter betrachten möchte, die keine Kataloge sind. Durch die gewählte relation lassen sich die Formblätter den Kunden zuordnen.\n",
    "\n",
    "## DataFrame erstellen\n",
    "\n",
    "Die zuvor ersatellten Datensätze werden zu einem [DataFrame](https://pandas.pydata.org/pandas-docs/stable/dsintro.html#dataframe) fusioniert um mit Hilfe von [pandas](https://pandas.pydata.org/) eine Analyse des Datensatzes durchführen zu können.\n",
    "\n",
    "### Excel-Export\n",
    "\n",
    "Ein DataFrame lässt sich in unterschiedliche Datei-Formate abspeichern. Für die Übernahme in e1ns sollte das Excel-Format verwendet werden."
   ]
  },
  {
   "cell_type": "markdown",
   "metadata": {},
   "source": [
    "## Verwendete Importe"
   ]
  },
  {
   "cell_type": "code",
   "execution_count": null,
   "metadata": {
    "collapsed": true
   },
   "outputs": [],
   "source": [
    "import os\n",
    "import re\n",
    "\n",
    "from collections import defaultdict\n",
    "from datetime import datetime\n",
    "\n",
    "from pandas import DataFrame\n",
    "import pandas as pd"
   ]
  },
  {
   "cell_type": "markdown",
   "metadata": {},
   "source": [
    "## Code zur Analyse der Lizenz-Dateien"
   ]
  },
  {
   "cell_type": "code",
   "execution_count": null,
   "metadata": {
    "collapsed": true
   },
   "outputs": [],
   "source": [
    "# Methoden ohne den Parameter 'slotCount'\n",
    "METHODS_WITHOUT_SLOTS = ('architect',)\n",
    "# Methoden ohne den Parameter 'floatingUserCount'\n",
    "METHODS_WITHOUT_USERS = ()\n",
    "\n",
    "def _parse_lic_metadata(file_):\n",
    "    \"\"\"Durchsucht die übergebene Lizenz-Datei nach den Metadaten 'company', 'expire' und 'modified'.\n",
    "    \"\"\"\n",
    "    pattern_modified = re.compile('^\\s*modified\\s*=\\s*(.+)$')\n",
    "    find_modified = True\n",
    "    pattern_kunde = re.compile('^\\s*company\\s*=\\s*(.+)$')\n",
    "    find_kunde = True\n",
    "    pattern_expire = re.compile('^\\s*expire\\s*=\\s*(\\d{4}-\\d{2}-\\d{2})$')\n",
    "    find_expire = True\n",
    "    \n",
    "    kunde = expire = modified = ''\n",
    "    \n",
    "    for i, line in enumerate(open(file_)):\n",
    "        if find_modified:\n",
    "            for match in re.finditer(pattern_modified, line):\n",
    "                modified =  match.groups()[0]\n",
    "                find_modified = False\n",
    "                continue\n",
    "        if find_kunde:\n",
    "            for match in re.finditer(pattern_kunde, line):\n",
    "                kunde =  match.groups()[0]\n",
    "                find_kunde = False\n",
    "                continue\n",
    "        if find_expire:\n",
    "            for match in re.finditer(pattern_expire, line):\n",
    "                expire =  match.groups()[0]\n",
    "                find_expire = False\n",
    "                continue\n",
    "        if not find_modified and not find_kunde and not find_expire:\n",
    "            find_modified = find_kunde = find_expire = True\n",
    "            break\n",
    "            \n",
    "    return kunde, expire, modified\n",
    "\n",
    "def find_licfiles(directory=r'C:\\Users\\entrup\\workspace\\PLX_methods_worksheets\\trunk\\__documents__\\licfiles'):\n",
    "    \"\"\"Erstellt ein verschateltes Dictionary mit der Struktur Kunden > Licfiles (Dateiname ohne Endung).\n",
    "    \n",
    "    Zu jedem Licfile wird der vollständige Pfad als 'path' gespeichert.\n",
    "    \"\"\"    \n",
    "    licfiles_dict = defaultdict(list)\n",
    "    \n",
    "    for root, dirs, files in os.walk(directory):\n",
    "        for file_ in files:\n",
    "            name, ext = os.path.splitext(file_)\n",
    "            if ext == '.lic':\n",
    "                file_ = os.path.join(root, file_)\n",
    "                kunde, expire, modified = _parse_lic_metadata(file_)\n",
    "                licfile = {\n",
    "                    'name': name,\n",
    "                    'path': file_,\n",
    "                    'expire': expire,\n",
    "                    'modified': modified\n",
    "                }     \n",
    "                licfiles_dict[kunde].append(licfile)\n",
    "    return licfiles_dict\n",
    "\n",
    "\n",
    "def _analyze_licfile(licfile_dict):\n",
    "    \"\"\"Extrahiert die lizensierten Methoden aus der im Dictionary vermerkten Lizenzdatei.\n",
    "    \n",
    "    Das Dictionary wird genutzt, um die Anzahl an Slots und Benutzern pro gefunderer Methode zu speichern.\n",
    "    Zusätzlich wird die Anzahl der gefundenen Methoden zurückgegeben.\n",
    "    \"\"\"\n",
    "    pattern_cat = re.compile('^\\s*\\[method_([\\w\\d_]+)\\]')\n",
    "    pattern_users = re.compile('^\\s*floatingUserCount\\s*=\\s*(\\d+)')\n",
    "    pattern_slots = re.compile('^\\s*slotCount\\s*=\\s*(\\d+)')\n",
    "    find_method = True\n",
    "    found_method = ''\n",
    "    find_users = True\n",
    "    find_slots = True\n",
    "    methods_list = []\n",
    "    method_dict = {}\n",
    "    for i, line in enumerate(open(licfile_dict['path'])):\n",
    "        if find_method:\n",
    "            for match in re.finditer(pattern_cat, line):\n",
    "                found_method = match.groups()[0]\n",
    "                if found_method in METHODS_WITHOUT_SLOTS:\n",
    "                    find_slots = False\n",
    "                if found_method in METHODS_WITHOUT_USERS:\n",
    "                    find_users = False\n",
    "                method_dict['name'] = found_method\n",
    "                find_method = False\n",
    "        else:\n",
    "            if find_users:\n",
    "                for match in re.finditer(pattern_users, line):\n",
    "                    found_user_count = match.groups()[0]\n",
    "                    method_dict['users'] = int(found_user_count)\n",
    "                    find_users = False\n",
    "            if find_slots:\n",
    "                for match in re.finditer(pattern_slots, line):\n",
    "                    found_slot_count = match.groups()[0]\n",
    "                    method_dict['slots'] = int(found_slot_count)\n",
    "                    find_slots = False\n",
    "            if not find_users and not find_slots:\n",
    "                find_users = True\n",
    "                find_slots = True\n",
    "                find_method = True\n",
    "                methods_list.append(method_dict)\n",
    "                method_dict = {}\n",
    "    licfile_dict['methods'] = methods_list\n",
    "            \n",
    "\n",
    "def analyze_licfiles(licfiles_dict):\n",
    "    \"\"\"Iteriert über alle im Dictionary hinterlegten Lizenz-Dateien und extrahiert die dort lizensierten Methoden.\n",
    "    \"\"\"\n",
    "    for licfiles in licfiles_dict.values():\n",
    "        for licfile in licfiles:\n",
    "            _analyze_licfile(licfile)"
   ]
  },
  {
   "cell_type": "markdown",
   "metadata": {},
   "source": [
    "## Code zur Analyse der Formblätter"
   ]
  },
  {
   "cell_type": "code",
   "execution_count": null,
   "metadata": {
    "collapsed": true
   },
   "outputs": [],
   "source": [
    "def find_used_lics(directory=r'C:\\Users\\entrup\\workspace\\PLX_methods_worksheets\\trunk\\__productstatus__'):\n",
    "    \"\"\"Iteriert über alle Formblätter im übergebenen Verzeichnis und liest die vergebenen Lizenz-Kategorien aus.\n",
    "    \"\"\"\n",
    "    pattern_id = re.compile('^\\s*WORKSHEET_ID\\s*=\\s*[\"\\']([\\w\\d_]+)[\"\\']')\n",
    "    pattern_lic = re.compile('^\\s*__lic_category\\s*=\\s*[\"\\']([\\w\\d_]+)[\"\\']')\n",
    "    pattern_catalog = re.compile('^\\s*__lic_is_catalog\\s*=\\s*(True|False)')\n",
    "    used_lics = {}\n",
    "    \n",
    "    for root, dirs, files in os.walk(directory):\n",
    "        for file_ in files:\n",
    "            file_name, ext = os.path.splitext(file_)\n",
    "            if ext == '.py':\n",
    "                # print file_name\n",
    "                full_path = os.path.join(root, file_)\n",
    "                find_id = find_lic = find_catalog = True\n",
    "                ws_id = lic_cat = ''\n",
    "                is_catalog = False\n",
    "                for i, line in enumerate(open(full_path)):\n",
    "                    if find_id:\n",
    "                        for match in re.finditer(pattern_id, line):\n",
    "                            ws_id = match.groups()[0]\n",
    "                            find_id = False\n",
    "                    \n",
    "                    if find_lic:\n",
    "                        for match in re.finditer(pattern_lic, line):\n",
    "                            lic_cat = match.groups()[0]  \n",
    "                            # print lic_cat\n",
    "                            find_lic = False\n",
    "\n",
    "                    if find_catalog:\n",
    "                        for match in re.finditer(pattern_catalog, line):\n",
    "                            is_catalog = (match.groups()[0] == 'True')\n",
    "                            # print is_catalog\n",
    "                            find_catalog = False\n",
    "                        \n",
    "                    if not find_lic and not find_catalog and not find_id:\n",
    "                        break\n",
    "                \n",
    "                if lic_cat:\n",
    "                    used_in = used_lics.get(lic_cat, {'formsheets': []})\n",
    "                    worksheet = {\n",
    "                        'id': ws_id,\n",
    "                        'name': file_name,\n",
    "                        'path': full_path,\n",
    "                        'is_catalog': is_catalog,\n",
    "                    }\n",
    "                    used_in['formsheets'].append(worksheet)\n",
    "                    used_lics[lic_cat] = used_in\n",
    "    return used_lics"
   ]
  },
  {
   "cell_type": "markdown",
   "metadata": {},
   "source": [
    "## Datensatz generieren (trunk)\n",
    "\n",
    "### Lizenz-Dateien"
   ]
  },
  {
   "cell_type": "code",
   "execution_count": null,
   "metadata": {},
   "outputs": [],
   "source": [
    "kunden_licfiles = find_licfiles()\n",
    "analyze_licfiles(kunden_licfiles)\n",
    "print 'Anzahl Lizenz-Dateien: {}'.format(len(kunden_licfiles))\n",
    "print\n",
    "print 'Liste der Kunden mit e1ns-Lizenzen:'\n",
    "print\n",
    "print '\\n'.join(sorted(kunden_licfiles.keys()))"
   ]
  },
  {
   "cell_type": "markdown",
   "metadata": {},
   "source": [
    "### Formblätter"
   ]
  },
  {
   "cell_type": "code",
   "execution_count": null,
   "metadata": {},
   "outputs": [],
   "source": [
    "used_lics = find_used_lics()\n",
    "print 'Anzahl genutzter Lizenzen: {}'.format(len(used_lics))"
   ]
  },
  {
   "cell_type": "code",
   "execution_count": null,
   "metadata": {
    "collapsed": true
   },
   "outputs": [],
   "source": [
    "for key in used_lics.keys():\n",
    "    used_lics[key]['formsheet_count'] = len([True for item in used_lics[key]['formsheets'] if not item['is_catalog']])\n",
    "    used_lics[key]['catalog_count'] = len(used_lics[key]['formsheets']) - used_lics[key]['formsheet_count']"
   ]
  },
  {
   "cell_type": "markdown",
   "metadata": {},
   "source": [
    "Liste mit allen im trunk genutzten Lizenz-Kategorien und für die Verwendung als Lic-Datei formatieren:"
   ]
  },
  {
   "cell_type": "code",
   "execution_count": null,
   "metadata": {},
   "outputs": [],
   "source": [
    "lic_all = find_used_lics(directory=r'C:\\Users\\entrup\\workspace\\PLX_methods_worksheets\\trunk')\n",
    "print 'Anzahl genutzter Lizenzen: {}'.format(len(lic_all))\n",
    "\n",
    "count_str = \"\"\"\n",
    "scioDbGuidlist = []\n",
    "floatingUserCount = 100\n",
    "slotCount = 100\\n\n",
    "\"\"\"\n",
    "with open(r'C:\\Users\\entrup\\Documents\\Jupyter-Output\\lic_all.txt', 'w') as f:\n",
    "    for lic in sorted(lic_all, key=lambda v: v.lower()):\n",
    "        f.write('[method_{}]{}'.format(lic, count_str))"
   ]
  },
  {
   "cell_type": "markdown",
   "metadata": {},
   "source": [
    "## Datensatz nach pandas konvertieren\n",
    "\n",
    "### Lizenz-Dateien\n",
    "\n",
    "Es werden beide zuvor erzeugten Datensätze kombiniert, damit der Datensatz auch die vom jeweiligen Kunden verwendbaren Formblätter enthält."
   ]
  },
  {
   "cell_type": "code",
   "execution_count": null,
   "metadata": {
    "collapsed": true
   },
   "outputs": [],
   "source": [
    "cols_kunden = [\n",
    "    'Kunde',\n",
    "    'Lizenzdatei',\n",
    "    'Signiert',\n",
    "    'Laufzeit',\n",
    "    'Methode',\n",
    "    'Anzahl Slots',\n",
    "    'Anzahl Benutzer',\n",
    "    'Formblatt',\n",
    "    'ist Katalog?'\n",
    "]\n",
    "\n",
    "cols_methods = [\n",
    "    'Methode',\n",
    "    u'Anzahl Formblätter',\n",
    "    'Anzahl Kataloge',\n",
    "    'Formblatt',\n",
    "    'ist Katalog?'\n",
    "]"
   ]
  },
  {
   "cell_type": "code",
   "execution_count": null,
   "metadata": {
    "collapsed": true
   },
   "outputs": [],
   "source": [
    "def convert_kunden_dict_to_dataframe(kunden_dict, methods_dict):\n",
    "    expanded_list = list()\n",
    "    \n",
    "    ws_without_id = set()\n",
    "\n",
    "    for kunde, licfiles in kunden_dict.iteritems():\n",
    "        for licfile in licfiles:\n",
    "            for method in licfile['methods']:\n",
    "                if method['name'] in methods_dict.keys():\n",
    "                    for formsheet in methods_dict[method['name']]['formsheets']:\n",
    "                        formblatt = formsheet['id']\n",
    "                        if not formblatt:\n",
    "                            formblatt = formsheet['name']\n",
    "                            ws_without_id.add(formsheet['path'])\n",
    "                        line = {\n",
    "                            'Kunde': kunde,\n",
    "                            'Lizenzdatei': licfile['name'],\n",
    "                            'Signiert': datetime.strptime(licfile['modified'], '%a %b %d %H:%M:%S %Y') if licfile['modified'].strip() else '',\n",
    "                            'Laufzeit': datetime.strptime(licfile['expire'], '%Y-%m-%d') if licfile['expire'].strip() else '',\n",
    "                            'Methode': method['name'],\n",
    "                            'Anzahl Slots':  method['slots'],\n",
    "                            'Anzahl Benutzer':  method['users'],\n",
    "                            'Formblatt': formblatt,\n",
    "                            'ist Katalog?': formsheet['is_catalog']\n",
    "                        }\n",
    "                        expanded_list.append(line)\n",
    "    \n",
    "    df = DataFrame(expanded_list)\n",
    "    df = df[cols_kunden]\n",
    "    df.sort_values(by=['Kunde', 'Lizenzdatei', 'Methode', 'Formblatt'], inplace=True)\n",
    "    \n",
    "    # Methoden mit 'floatingUserCount == 0' sind nicht von Interesse:\n",
    "    df_filtered = df[df['Anzahl Benutzer'] > 0]\n",
    "    \n",
    "    for ws in ws_without_id:\n",
    "        print('[Debug] {} besitzt keine WORKSHEET_ID.'.format(ws))\n",
    "    \n",
    "    return df_filtered"
   ]
  },
  {
   "cell_type": "code",
   "execution_count": null,
   "metadata": {},
   "outputs": [],
   "source": [
    "df_kunden = convert_kunden_dict_to_dataframe(kunden_licfiles, used_lics)"
   ]
  },
  {
   "cell_type": "code",
   "execution_count": null,
   "metadata": {},
   "outputs": [],
   "source": [
    "print 'Größe des Datensatzen: {}'.format(df_kunden.shape)\n",
    "df_kunden.head()"
   ]
  },
  {
   "cell_type": "markdown",
   "metadata": {},
   "source": [
    "### Multiindex erzeugen, um Struktur des e1ns-Formblattes zu erhalten:"
   ]
  },
  {
   "cell_type": "code",
   "execution_count": null,
   "metadata": {
    "collapsed": true
   },
   "outputs": [],
   "source": [
    "cols2join_kunden = cols_kunden[0:-1]\n",
    "df_kunden_multiindex = df_kunden.set_index(cols2join_kunden)"
   ]
  },
  {
   "cell_type": "code",
   "execution_count": null,
   "metadata": {
    "scrolled": true
   },
   "outputs": [],
   "source": [
    "df_kunden_multiindex.head()"
   ]
  },
  {
   "cell_type": "markdown",
   "metadata": {},
   "source": [
    "### DataFrame mit den verfügbaren Methoden erstellen"
   ]
  },
  {
   "cell_type": "code",
   "execution_count": null,
   "metadata": {
    "collapsed": true
   },
   "outputs": [],
   "source": [
    "def convert_methods_dict_to_dataframe(methods_dict):\n",
    "    expanded_list = list()\n",
    "\n",
    "    for method, content in methods_dict.iteritems():\n",
    "        for formsheet in content['formsheets']:\n",
    "            formblatt = formsheet['id']\n",
    "            if not formblatt:\n",
    "                formblatt = formsheet['name']\n",
    "            line = {\n",
    "                'Methode': method,\n",
    "                u'Anzahl Formblätter': content['formsheet_count'],\n",
    "                'Anzahl Kataloge': content['catalog_count'],\n",
    "                'Formblatt': formblatt,\n",
    "                'ist Katalog?': formsheet['is_catalog']\n",
    "            }\n",
    "            expanded_list.append(line)\n",
    "    \n",
    "    df = DataFrame(expanded_list)\n",
    "    df = df[cols_methods]\n",
    "    df.sort_values(by=['Methode', 'Formblatt'], inplace=True)\n",
    "    \n",
    "    return df"
   ]
  },
  {
   "cell_type": "code",
   "execution_count": null,
   "metadata": {
    "collapsed": true
   },
   "outputs": [],
   "source": [
    "df_methods = convert_methods_dict_to_dataframe(used_lics)"
   ]
  },
  {
   "cell_type": "code",
   "execution_count": null,
   "metadata": {},
   "outputs": [],
   "source": [
    "print 'Größe des Datensatzen: {}'.format(df_methods.shape)\n",
    "df_methods.head()"
   ]
  },
  {
   "cell_type": "code",
   "execution_count": null,
   "metadata": {
    "collapsed": true
   },
   "outputs": [],
   "source": [
    "cols2join_methods = cols_methods[0:-1]\n",
    "df_methods_multiindex = df_methods.set_index(cols2join_methods)"
   ]
  },
  {
   "cell_type": "code",
   "execution_count": null,
   "metadata": {},
   "outputs": [],
   "source": [
    "df_methods_multiindex.head()"
   ]
  },
  {
   "cell_type": "markdown",
   "metadata": {},
   "source": [
    "## DataFrame als Excel-Datei speichern\n",
    "\n",
    "Der Excel-Datei werden alle notwendigen Metadaten hinzugefügt, damit sie ohne manuelle Anpassungen in das e1ns-Formblatt **PLATO e1ns - Formblatt Lizenzen** importiert werden kann.\n",
    "\n",
    "*Für e1ns 2.1.3 ist noch ein Workaround notwendig, damit die Spalte \"ist Katalog?\" als BooleanType importiert wird.*"
   ]
  },
  {
   "cell_type": "code",
   "execution_count": null,
   "metadata": {
    "collapsed": true
   },
   "outputs": [],
   "source": [
    "# Workaround für einen Bug beim Import von Boolean:\n",
    "# e1ns kann keine Boolean-Werte von Excel importieren.\n",
    "# Es muss deshalb True und False als String in die Tabelle geschrieben werden.\n",
    "df_kunden_multiindex_fix = df_kunden_multiindex.copy()\n",
    "df_kunden_multiindex_fix['ist Katalog?'] = df_kunden_multiindex_fix['ist Katalog?'].apply(\n",
    "    lambda val: 'True' if val else 'False'\n",
    ")\n",
    "\n",
    "writer = pd.ExcelWriter(r'C:\\Users\\entrup\\Documents\\Jupyter-Output\\LIC-Export_full.xlsx', engine='xlsxwriter')\n",
    "df_kunden_multiindex_fix.to_excel(writer, sheet_name='LIC-Full')\n",
    "workbook  = writer.book\n",
    "\n",
    "meta_sheet = workbook.add_worksheet('ImportDefinition')\n",
    "col_ids = ['customer', 'file', 'signed', 'expires', 'method', 'ws_slots', 'user_slots', 'worksheet', 'is_catalog']\n",
    "for col in range(len(cols_kunden)):\n",
    "    meta_sheet.write(0, col, cols_kunden[col])\n",
    "    meta_sheet.write(1, col, col_ids[col])\n",
    "workbook.define_name('column_ids', '=ImportDefinition!A2:I2')\n",
    "meta_sheet.write('A10', 'services_e1ns_ws_licences')\n",
    "workbook.define_name('worksheet_definition', '=ImportDefinition!A10')\n",
    "meta_sheet.write('A12', 'LIC-Full')\n",
    "workbook.define_name('data_sheets', '=ImportDefinition!A12')\n",
    "writer.save()"
   ]
  },
  {
   "cell_type": "markdown",
   "metadata": {},
   "source": [
    "### Eine Excel-Datei mit einem Formblatt pro Kunden erstellen\n",
    "\n",
    "Diese Excel-Datei wird nicht für den Import in e1ns genutzt."
   ]
  },
  {
   "cell_type": "code",
   "execution_count": null,
   "metadata": {
    "collapsed": true
   },
   "outputs": [],
   "source": [
    "writer = pd.ExcelWriter(r'C:\\Users\\entrup\\Documents\\Jupyter-Output\\LIC-Export_by_customer.xlsx', engine='xlsxwriter')\n",
    "for kunde in sorted(kunden_licfiles.keys()):\n",
    "    df_kunde = df_kunden_multiindex.loc[kunde]\n",
    "    # Die Titel eines worksheets dürfen bei Excel nur 31 Zeichen besitzen:\n",
    "    if len(kunde) > 31:\n",
    "        kunde = kunde[:28] + '...'\n",
    "    # Nicht unterstützte Sonderzeichen entfernen:\n",
    "    kunde = kunde.replace('/', ' ')\n",
    "    df_kunde.to_excel(writer, sheet_name=kunde)\n",
    "writer.save()"
   ]
  },
  {
   "cell_type": "markdown",
   "metadata": {},
   "source": [
    "### Verfügbare Methoden als Excel-Datei exportieren"
   ]
  },
  {
   "cell_type": "code",
   "execution_count": null,
   "metadata": {
    "collapsed": true
   },
   "outputs": [],
   "source": [
    "df_methods_multiindex_fix = df_methods_multiindex.copy()\n",
    "df_methods_multiindex_fix['ist Katalog?'] = df_methods_multiindex_fix['ist Katalog?'].apply(\n",
    "    lambda val: 'True' if val else 'False'\n",
    ")\n",
    "\n",
    "writer = pd.ExcelWriter(r'C:\\Users\\entrup\\Documents\\Jupyter-Output\\Methods-Export.xlsx', engine='xlsxwriter')\n",
    "df_methods_multiindex_fix.to_excel(writer, sheet_name='Methods')\n",
    "workbook  = writer.book\n",
    "\n",
    "meta_sheet = workbook.add_worksheet('ImportDefinition')\n",
    "col_ids = ['method', 'ws_count', 'cat_count', 'worksheet', 'is_catalog']\n",
    "for col in range(len(cols_methods)):\n",
    "    meta_sheet.write(0, col, cols_methods[col])\n",
    "    meta_sheet.write(1, col, col_ids[col])\n",
    "workbook.define_name('column_ids', '=ImportDefinition!A2:I2')\n",
    "meta_sheet.write('A10', 'lu_services_e1ns_methods')\n",
    "workbook.define_name('worksheet_definition', '=ImportDefinition!A10')\n",
    "meta_sheet.write('A12', 'Methods')\n",
    "workbook.define_name('data_sheets', '=ImportDefinition!A12')\n",
    "writer.save()"
   ]
  }
 ],
 "metadata": {
  "kernelspec": {
   "display_name": "Python 2",
   "language": "python",
   "name": "python2"
  },
  "language_info": {
   "codemirror_mode": {
    "name": "ipython",
    "version": 2
   },
   "file_extension": ".py",
   "mimetype": "text/x-python",
   "name": "python",
   "nbconvert_exporter": "python",
   "pygments_lexer": "ipython2",
   "version": "2.7.13"
  }
 },
 "nbformat": 4,
 "nbformat_minor": 2
}

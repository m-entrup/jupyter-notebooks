{
 "cells": [
  {
   "cell_type": "code",
   "execution_count": null,
   "metadata": {
    "collapsed": true
   },
   "outputs": [],
   "source": [
    "import os\n",
    "import re\n",
    "import numpy as np\n",
    "import pandas as pd"
   ]
  },
  {
   "cell_type": "code",
   "execution_count": null,
   "metadata": {
    "collapsed": true
   },
   "outputs": [],
   "source": [
    "def find_sortindex(directory=r'C:\\Users\\entrup\\workspace\\PLX_methods_worksheets\\trunk\\__productstatus__'):\n",
    "    \"\"\"Iteriert über alle Formblätter im übergebenen Verzeichnis und liest den verwendeten sort_index aus.\n",
    "    \"\"\"\n",
    "    pattern_id = re.compile('^\\s*WORKSHEET_ID\\s*=\\s*[\"\\']([\\w\\d_]+)[\"\\']')\n",
    "    pattern_sortindex = re.compile('^\\s*wsd\\.sort_index\\s*=\\s*(\\d+)')\n",
    "    pattern_category = re.compile('^\\s*wsd\\.category\\s*=\\s*\\{(.*)\\}')\n",
    "    ws_info_list = []\n",
    "    skipped_files = []\n",
    "    languages = set()\n",
    "    \n",
    "    for root, dirs, files in os.walk(directory):\n",
    "        for file_ in files:\n",
    "            file_name, ext = os.path.splitext(file_)\n",
    "            if ext == '.py':\n",
    "                # print file_name\n",
    "                full_path = os.path.join(root, file_)\n",
    "                find_id = find_sortindex = find_category = True\n",
    "                ws_id = sortindex = category = ''\n",
    "                for i, line in enumerate(open(full_path)):\n",
    "                    if find_id:\n",
    "                        for match in re.finditer(pattern_id, line):\n",
    "                            ws_id = match.groups()[0]\n",
    "                            find_id = False\n",
    "                    \n",
    "                    if find_sortindex:\n",
    "                        for match in re.finditer(pattern_sortindex, line):\n",
    "                            sortindex = match.groups()[0]  \n",
    "                            # print lic_cat\n",
    "                            find_sortindex = False\n",
    "\n",
    "                    if find_category:\n",
    "                        for match in re.finditer(pattern_category, line):\n",
    "                            category = match.groups()[0]\n",
    "                            # print is_catalog\n",
    "                            find_category = False\n",
    "                        \n",
    "                    if not find_id and not find_sortindex and not find_category:\n",
    "                        break\n",
    "                \n",
    "                if not ws_id:\n",
    "                    skipped_files.append(file_)\n",
    "                    break\n",
    "                if not sortindex:\n",
    "                    print(\"{}: missing sort_index.\".format(file_name)) \n",
    "                elif not category:\n",
    "                    print(\"{}: missing category.\".format(file_name)) \n",
    "                else:\n",
    "                    cat_list = category.split(',')\n",
    "                    cat_dict = {}\n",
    "                    for cat in cat_list:                        \n",
    "                        key, name = cat.replace('u\"', '').replace('\"', '').split(':')\n",
    "                        key = key.strip()\n",
    "                        if key == '':\n",
    "                            key = 'en'\n",
    "                        languages.add(key)\n",
    "                        name = name.strip()\n",
    "                        if key in cat_dict.keys():\n",
    "                            if key not in cat:\n",
    "                                cat_dict['other'] = name\n",
    "                            else:\n",
    "                                cat_dict['other'] = cat_dict['en']\n",
    "                        cat_dict[key] = name\n",
    "                    worksheet = {\n",
    "                        'id': ws_id,\n",
    "                        'name': file_name,\n",
    "                        'path': full_path,\n",
    "                        'sortindex': int(sortindex),\n",
    "                        'category': cat_dict\n",
    "                    }\n",
    "                    ws_info_list.append(worksheet)\n",
    "    return ws_info_list, languages, skipped_files"
   ]
  },
  {
   "cell_type": "code",
   "execution_count": null,
   "metadata": {},
   "outputs": [],
   "source": [
    "data, languages, skipped_files = find_sortindex()\n",
    "print(\"\\nThere are categories in {} languages: {}\".format(len(languages), \", \".join(sorted(list(languages)))))"
   ]
  },
  {
   "cell_type": "code",
   "execution_count": null,
   "metadata": {
    "collapsed": true
   },
   "outputs": [],
   "source": [
    "for item in data:\n",
    "    if 'de' not in item['category'].keys():\n",
    "        if 'other' in item['category'].keys():\n",
    "            item['category']['de'] = item['category']['other']\n",
    "        else:\n",
    "            item['category']['de'] = item['category']['en']"
   ]
  },
  {
   "cell_type": "code",
   "execution_count": null,
   "metadata": {},
   "outputs": [],
   "source": [
    "for item in data:\n",
    "    for lang in languages:\n",
    "        if item['category'].get(lang, False):\n",
    "            item[lang] = item['category'][lang]\n",
    "            try:\n",
    "                item[lang].decode('ascii')\n",
    "            except UnicodeDecodeError:\n",
    "                if lang in ['en', 'de']:\n",
    "                    print item['category'][lang], item['id']\n",
    "                    del item[lang]\n",
    "print(\"Found {} plugins.\".format(len(data)))"
   ]
  },
  {
   "cell_type": "code",
   "execution_count": null,
   "metadata": {},
   "outputs": [],
   "source": [
    "df = pd.DataFrame.from_dict(data)\n",
    "cols = ['name', 'id', 'sortindex'] + sorted(languages) + ['path', 'category']\n",
    "df = df[cols].sort_values(by=['sortindex'])\n",
    "df.head()"
   ]
  },
  {
   "cell_type": "code",
   "execution_count": null,
   "metadata": {},
   "outputs": [],
   "source": [
    "df"
   ]
  },
  {
   "cell_type": "code",
   "execution_count": null,
   "metadata": {
    "collapsed": true
   },
   "outputs": [],
   "source": [
    "cols_export = ['name', 'id', 'sortindex', 'en', 'de', 'path']\n",
    "df_export = df[cols_export]\n",
    "writer = pd.ExcelWriter(r'C:\\Users\\entrup\\Documents\\Jupyter-Output\\SortIndex-Export.xlsx', engine='xlsxwriter')\n",
    "df_export.to_excel(writer, sheet_name=u'sort_index')\n",
    "df_export.sort_values(by=['en', 'sortindex']).to_excel(writer, sheet_name=u'en')\n",
    "df_export.sort_values(by=['de', 'sortindex']).to_excel(writer, sheet_name=u'de')\n",
    "writer.save()"
   ]
  }
 ],
 "metadata": {
  "kernelspec": {
   "display_name": "Python 2",
   "language": "python",
   "name": "python2"
  },
  "language_info": {
   "codemirror_mode": {
    "name": "ipython",
    "version": 2
   },
   "file_extension": ".py",
   "mimetype": "text/x-python",
   "name": "python",
   "nbconvert_exporter": "python",
   "pygments_lexer": "ipython2",
   "version": "2.7.13"
  }
 },
 "nbformat": 4,
 "nbformat_minor": 2
}

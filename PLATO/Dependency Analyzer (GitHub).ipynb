{
 "cells": [
  {
   "cell_type": "code",
   "execution_count": null,
   "metadata": {
    "collapsed": true
   },
   "outputs": [],
   "source": [
    "import os\n",
    "import subprocess\n",
    "import yaml\n",
    "\n",
    "dot_path = r'C:\\Program Files (x86)\\Graphviz2.38\\bin\\dot.exe'\n",
    "gv_path = r'C:\\Users\\entrup\\Documents\\Jupyter-Output\\dependency_graph.gv'"
   ]
  },
  {
   "cell_type": "code",
   "execution_count": null,
   "metadata": {
    "collapsed": true
   },
   "outputs": [],
   "source": [
    "def parse_dependencies(path_):\n",
    "    with open(path_) as stream:\n",
    "        data_loaded = yaml.load(stream)\n",
    "        name = data_loaded.get('name', None)\n",
    "        if not name:\n",
    "            return None\n",
    "        deps = data_loaded.get('dependencies', None)\n",
    "        if deps:\n",
    "            deps_plugins = deps.get('plugins', None)\n",
    "            if deps_plugins and deps_plugins != [None]:\n",
    "                return deps_plugins\n",
    "        \n",
    "\n",
    "def analyse_dependencies(directory=r'C:\\Users\\entrup\\workspace\\PLX_methods_worksheets\\trunk\\__productstatus__'):\n",
    "    dependencies = {}\n",
    "    \n",
    "    for root, dirs, files in os.walk(directory):\n",
    "        for _file in files:\n",
    "            if _file.endswith('.yml'):\n",
    "                full_path = os.path.join(root, _file)\n",
    "                result = parse_dependencies(full_path)\n",
    "                plugin = os.path.basename(root)\n",
    "                customer = os.path.basename((os.path.dirname(root)))\n",
    "                dependencies.update({\n",
    "                    \"{}\\\\{}\".format(customer, plugin): result\n",
    "                })\n",
    "    return dependencies\n",
    "\n",
    "dep_result = analyse_dependencies()"
   ]
  },
  {
   "cell_type": "code",
   "execution_count": null,
   "metadata": {},
   "outputs": [],
   "source": [
    "def remove_unconnected(dep_dict):\n",
    "    result_dict = dep_dict.copy()\n",
    "    connected = set()\n",
    "    unconnected = []\n",
    "    for dep_list in dep_dict.values():\n",
    "        if dep_list:\n",
    "            connected.update(dep_list)\n",
    "    connected = [entry.lower() for entry in connected]\n",
    "    for key in dep_dict.keys():\n",
    "        if key in list(connected):\n",
    "            print key\n",
    "        if not dep_dict[key] and key.lower() not in connected:\n",
    "            result_dict.pop(key)\n",
    "            unconnected.append(key)\n",
    "    return result_dict, unconnected\n",
    "\n",
    "def optimize_name(name):\n",
    "    name_opt = name.lower().replace(\" \", \"_\").replace(\"-\", \"_\").replace(\"\\\\\", \"_\").replace(\".\", \"_\")\n",
    "    return name_opt\n",
    "\n",
    "def make_dependency_graph(dep_dict):\n",
    "    digraph_str = \"digraph Dependencies {\\n\"\n",
    "    digraph_define = []\n",
    "    digraph_connect = []\n",
    "    for name in dep_dict.keys(): \n",
    "        name_opt = optimize_name(name)  \n",
    "        digraph_define.append(\"\\t{} [label=\\\"{}\\\"];\".format(name_opt, name))\n",
    "        deps = dep_dict[name]\n",
    "        if deps:\n",
    "            deps_opt = \"; \".join([optimize_name(name) for name in deps])\n",
    "            digraph_connect.append(\"\\t{} -> {{{}}};\".format(name_opt, deps_opt))\n",
    "    digraph_define.sort()\n",
    "    digraph_connect.sort()\n",
    "    digraph_str += \"\\n\".join(digraph_define) + \"\\n\\n\" + \"\\n\".join(digraph_connect)\n",
    "    digraph_str += \"\\n}\"\n",
    "    with open(gv_path, 'w') as f:\n",
    "        f.write(digraph_str.replace('\\\\', '\\\\\\\\'))\n",
    "\n",
    "filtered_dep_result, unconnected = remove_unconnected(dep_result)\n",
    "print(\"Plugins without connection:\")\n",
    "for entry in sorted(unconnected):\n",
    "    print(\"- {}\".format(entry))\n",
    "make_dependency_graph(filtered_dep_result)"
   ]
  },
  {
   "cell_type": "code",
   "execution_count": null,
   "metadata": {},
   "outputs": [],
   "source": [
    "parameters = [dot_path, '-T', 'pdf', gv_path, '-O']\n",
    "subprocess.call(parameters)"
   ]
  }
 ],
 "metadata": {
  "kernelspec": {
   "display_name": "Python 2",
   "language": "python",
   "name": "python2"
  },
  "language_info": {
   "codemirror_mode": {
    "name": "ipython",
    "version": 2
   },
   "file_extension": ".py",
   "mimetype": "text/x-python",
   "name": "python",
   "nbconvert_exporter": "python",
   "pygments_lexer": "ipython2",
   "version": "2.7.13"
  }
 },
 "nbformat": 4,
 "nbformat_minor": 2
}
